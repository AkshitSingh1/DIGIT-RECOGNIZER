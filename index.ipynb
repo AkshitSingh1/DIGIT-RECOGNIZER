{
 "cells": [
  {
   "cell_type": "code",
   "execution_count": 13,
   "metadata": {},
   "outputs": [],
   "source": [
    "import numpy as np\n",
    "import pandas as pd\n",
    "import tensorflow as tf\n",
    "import matplotlib.pyplot as plt\n"
   ]
  },
  {
   "cell_type": "code",
   "execution_count": 2,
   "metadata": {},
   "outputs": [],
   "source": []
  },
  {
   "cell_type": "code",
   "execution_count": 16,
   "metadata": {},
   "outputs": [],
   "source": [
    "train=pd.read_csv('train.csv')\n",
    "test=pd.read_csv(\"test.csv\")"
   ]
  },
  {
   "cell_type": "code",
   "execution_count": 17,
   "metadata": {},
   "outputs": [
    {
     "data": {
      "text/plain": [
       "(42000, 785)"
      ]
     },
     "execution_count": 17,
     "metadata": {},
     "output_type": "execute_result"
    }
   ],
   "source": [
    "train.shape"
   ]
  },
  {
   "cell_type": "code",
   "execution_count": 18,
   "metadata": {},
   "outputs": [
    {
     "data": {
      "text/html": [
       "<div>\n",
       "<style scoped>\n",
       "    .dataframe tbody tr th:only-of-type {\n",
       "        vertical-align: middle;\n",
       "    }\n",
       "\n",
       "    .dataframe tbody tr th {\n",
       "        vertical-align: top;\n",
       "    }\n",
       "\n",
       "    .dataframe thead th {\n",
       "        text-align: right;\n",
       "    }\n",
       "</style>\n",
       "<table border=\"1\" class=\"dataframe\">\n",
       "  <thead>\n",
       "    <tr style=\"text-align: right;\">\n",
       "      <th></th>\n",
       "      <th>label</th>\n",
       "      <th>pixel0</th>\n",
       "      <th>pixel1</th>\n",
       "      <th>pixel2</th>\n",
       "      <th>pixel3</th>\n",
       "      <th>pixel4</th>\n",
       "      <th>pixel5</th>\n",
       "      <th>pixel6</th>\n",
       "      <th>pixel7</th>\n",
       "      <th>pixel8</th>\n",
       "      <th>...</th>\n",
       "      <th>pixel774</th>\n",
       "      <th>pixel775</th>\n",
       "      <th>pixel776</th>\n",
       "      <th>pixel777</th>\n",
       "      <th>pixel778</th>\n",
       "      <th>pixel779</th>\n",
       "      <th>pixel780</th>\n",
       "      <th>pixel781</th>\n",
       "      <th>pixel782</th>\n",
       "      <th>pixel783</th>\n",
       "    </tr>\n",
       "  </thead>\n",
       "  <tbody>\n",
       "    <tr>\n",
       "      <th>23603</th>\n",
       "      <td>5</td>\n",
       "      <td>0</td>\n",
       "      <td>0</td>\n",
       "      <td>0</td>\n",
       "      <td>0</td>\n",
       "      <td>0</td>\n",
       "      <td>0</td>\n",
       "      <td>0</td>\n",
       "      <td>0</td>\n",
       "      <td>0</td>\n",
       "      <td>...</td>\n",
       "      <td>0</td>\n",
       "      <td>0</td>\n",
       "      <td>0</td>\n",
       "      <td>0</td>\n",
       "      <td>0</td>\n",
       "      <td>0</td>\n",
       "      <td>0</td>\n",
       "      <td>0</td>\n",
       "      <td>0</td>\n",
       "      <td>0</td>\n",
       "    </tr>\n",
       "  </tbody>\n",
       "</table>\n",
       "<p>1 rows × 785 columns</p>\n",
       "</div>"
      ],
      "text/plain": [
       "       label  pixel0  pixel1  pixel2  pixel3  pixel4  pixel5  pixel6  pixel7  \\\n",
       "23603      5       0       0       0       0       0       0       0       0   \n",
       "\n",
       "       pixel8  ...  pixel774  pixel775  pixel776  pixel777  pixel778  \\\n",
       "23603       0  ...         0         0         0         0         0   \n",
       "\n",
       "       pixel779  pixel780  pixel781  pixel782  pixel783  \n",
       "23603         0         0         0         0         0  \n",
       "\n",
       "[1 rows x 785 columns]"
      ]
     },
     "execution_count": 18,
     "metadata": {},
     "output_type": "execute_result"
    }
   ],
   "source": [
    "train.sample()"
   ]
  },
  {
   "cell_type": "code",
   "execution_count": 19,
   "metadata": {},
   "outputs": [
    {
     "data": {
      "text/plain": [
       "0"
      ]
     },
     "execution_count": 19,
     "metadata": {},
     "output_type": "execute_result"
    }
   ],
   "source": [
    "train.isnull().sum().sum()"
   ]
  },
  {
   "cell_type": "code",
   "execution_count": 25,
   "metadata": {},
   "outputs": [],
   "source": [
    "X=train.drop('label',axis=1)\n",
    "y=train.label"
   ]
  },
  {
   "cell_type": "code",
   "execution_count": 54,
   "metadata": {},
   "outputs": [],
   "source": [
    "X_train,X_valid,y_train,y_valid=train_test_split(X,y,random_state=42)"
   ]
  },
  {
   "cell_type": "code",
   "execution_count": 55,
   "metadata": {},
   "outputs": [
    {
     "data": {
      "text/plain": [
       "((31500, 784), (10500, 784), (31500,), (10500,))"
      ]
     },
     "execution_count": 55,
     "metadata": {},
     "output_type": "execute_result"
    }
   ],
   "source": [
    "X_train.shape,X_valid.shape,y_train.shape,y_valid.shape"
   ]
  },
  {
   "cell_type": "code",
   "execution_count": 37,
   "metadata": {},
   "outputs": [],
   "source": [
    "X_data=train.drop(columns=['label']).values/255\n",
    "y_data=train['label'].values/255"
   ]
  },
  {
   "cell_type": "code",
   "execution_count": 38,
   "metadata": {},
   "outputs": [
    {
     "data": {
      "image/png": "[encoded data removed]",
      "text/plain": [
       "<Figure size 1200x500 with 10 Axes>"
      ]
     },
     "metadata": {},
     "output_type": "display_data"
    }
   ],
   "source": [
    "fig, axes = plt.subplots(2,5, figsize=(12,5))\n",
    "axes = axes.flatten()\n",
    "idx = np.random.randint(0,42000,size=10)\n",
    "for i in range(10):\n",
    "    axes[i].imshow(X_data[idx[i],:].reshape(28,28), cmap='gray')\n",
    "    axes[i].axis('off') # hide the axes ticks\n",
    "    axes[i].set_title(str(int(y_data[idx[i]])), color= 'black', fontsize=25)\n",
    "plt.show()"
   ]
  },
  {
   "cell_type": "code",
   "execution_count": 45,
   "metadata": {},
   "outputs": [],
   "source": [
    "import tensorflow\n",
    "from tensorflow import keras\n",
    "from tensorflow.keras import Sequential\n",
    "from tensorflow.keras.layers import Dense,BatchNormalization,Dropout\n",
    "from tensorflow.keras.callbacks import EarlyStopping"
   ]
  },
  {
   "cell_type": "code",
   "execution_count": 59,
   "metadata": {},
   "outputs": [],
   "source": [
    "early_stopping=EarlyStopping(patience=5,min_delta=0.001,restore_best_weights=True)"
   ]
  },
  {
   "cell_type": "code",
   "execution_count": 56,
   "metadata": {},
   "outputs": [],
   "source": [
    "model=Sequential([\n",
    "    BatchNormalization(input_shape=[784]),\n",
    "    Dense(500,activation='relu'),\n",
    "    Dropout(rate=0.5),\n",
    "    Dense(250,activation='relu'),\n",
    "    Dropout(rate=0.5),\n",
    "    Dense(100,activation='relu'),\n",
    "    Dropout(rate=0.5),\n",
    "    Dense(50,activation='relu'),\n",
    "    Dense(20,activation='relu'),\n",
    "    Dense(10,activation='softmax')\n",
    "])"
   ]
  },
  {
   "cell_type": "code",
   "execution_count": 60,
   "metadata": {},
   "outputs": [],
   "source": [
    "model.compile(loss='sparse_categorical_crossentropy',optimizer='Adam',metrics=['accuracy'])"
   ]
  },
  {
   "cell_type": "code",
   "execution_count": 58,
   "metadata": {},
   "outputs": [
    {
     "name": "stdout",
     "output_type": "stream",
     "text": [
      "Model: \"sequential_1\"\n",
      "_________________________________________________________________\n",
      " Layer (type)                Output Shape              Param #   \n",
      "=================================================================\n",
      " batch_normalization_1 (Bat  (None, 784)               3136      \n",
      " chNormalization)                                                \n",
      "                                                                 \n",
      " dense_6 (Dense)             (None, 500)               392500    \n",
      "                                                                 \n",
      " dropout_3 (Dropout)         (None, 500)               0         \n",
      "                                                                 \n",
      " dense_7 (Dense)             (None, 250)               125250    \n",
      "                                                                 \n",
      " dropout_4 (Dropout)         (None, 250)               0         \n",
      "                                                                 \n",
      " dense_8 (Dense)             (None, 100)               25100     \n",
      "                                                                 \n",
      " dropout_5 (Dropout)         (None, 100)               0         \n",
      "                                                                 \n",
      " dense_9 (Dense)             (None, 50)                5050      \n",
      "                                                                 \n",
      " dense_10 (Dense)            (None, 20)                1020      \n",
      "                                                                 \n",
      " dense_11 (Dense)            (None, 10)                210       \n",
      "                                                                 \n",
      "=================================================================\n",
      "Total params: 552266 (2.11 MB)\n",
      "Trainable params: 550698 (2.10 MB)\n",
      "Non-trainable params: 1568 (6.12 KB)\n",
      "_________________________________________________________________\n"
     ]
    }
   ],
   "source": [
    "model.summary()\n"
   ]
  },
  {
   "cell_type": "code",
   "execution_count": 62,
   "metadata": {},
   "outputs": [
    {
     "name": "stdout",
     "output_type": "stream",
     "text": [
      "Epoch 1/100\n",
      "985/985 [==============================] - 14s 12ms/step - loss: 0.8233 - accuracy: 0.7383 - val_loss: 0.2975 - val_accuracy: 0.9254\n",
      "Epoch 2/100\n",
      "985/985 [==============================] - 15s 15ms/step - loss: 0.3793 - accuracy: 0.8963 - val_loss: 0.2382 - val_accuracy: 0.9441\n",
      "Epoch 3/100\n",
      "985/985 [==============================] - 12s 12ms/step - loss: 0.3022 - accuracy: 0.9205 - val_loss: 0.1881 - val_accuracy: 0.9542\n",
      "Epoch 4/100\n",
      "985/985 [==============================] - 15s 15ms/step - loss: 0.2540 - accuracy: 0.9332 - val_loss: 0.1845 - val_accuracy: 0.9558\n",
      "Epoch 5/100\n",
      "985/985 [==============================] - 13s 13ms/step - loss: 0.2248 - accuracy: 0.9402 - val_loss: 0.1949 - val_accuracy: 0.9605\n",
      "Epoch 6/100\n",
      "985/985 [==============================] - 15s 15ms/step - loss: 0.2067 - accuracy: 0.9457 - val_loss: 0.1510 - val_accuracy: 0.9630\n",
      "Epoch 7/100\n",
      "985/985 [==============================] - 12s 12ms/step - loss: 0.1914 - accuracy: 0.9493 - val_loss: 0.1752 - val_accuracy: 0.9648\n",
      "Epoch 8/100\n",
      "985/985 [==============================] - 13s 13ms/step - loss: 0.1833 - accuracy: 0.9540 - val_loss: 0.1417 - val_accuracy: 0.9675\n",
      "Epoch 9/100\n",
      "985/985 [==============================] - 15s 15ms/step - loss: 0.1649 - accuracy: 0.9570 - val_loss: 0.1408 - val_accuracy: 0.9671\n",
      "Epoch 10/100\n",
      "985/985 [==============================] - 16s 16ms/step - loss: 0.1561 - accuracy: 0.9584 - val_loss: 0.1554 - val_accuracy: 0.9670\n",
      "Epoch 11/100\n",
      "985/985 [==============================] - 13s 13ms/step - loss: 0.1503 - accuracy: 0.9610 - val_loss: 0.1406 - val_accuracy: 0.9667\n",
      "Epoch 12/100\n",
      "985/985 [==============================] - 14s 14ms/step - loss: 0.1453 - accuracy: 0.9618 - val_loss: 0.1464 - val_accuracy: 0.9673\n",
      "Epoch 13/100\n",
      "985/985 [==============================] - 12s 12ms/step - loss: 0.1422 - accuracy: 0.9630 - val_loss: 0.1318 - val_accuracy: 0.9704\n",
      "Epoch 14/100\n",
      "985/985 [==============================] - 12s 12ms/step - loss: 0.1327 - accuracy: 0.9663 - val_loss: 0.1304 - val_accuracy: 0.9708\n",
      "Epoch 15/100\n",
      "985/985 [==============================] - 12s 12ms/step - loss: 0.1267 - accuracy: 0.9677 - val_loss: 0.1317 - val_accuracy: 0.9704\n",
      "Epoch 16/100\n",
      "985/985 [==============================] - 12s 12ms/step - loss: 0.1223 - accuracy: 0.9678 - val_loss: 0.1368 - val_accuracy: 0.9703\n",
      "Epoch 17/100\n",
      "985/985 [==============================] - 12s 13ms/step - loss: 0.1218 - accuracy: 0.9686 - val_loss: 0.1267 - val_accuracy: 0.9690\n",
      "Epoch 18/100\n",
      "985/985 [==============================] - 13s 13ms/step - loss: 0.1152 - accuracy: 0.9699 - val_loss: 0.1335 - val_accuracy: 0.9689\n",
      "Epoch 19/100\n",
      "985/985 [==============================] - 12s 12ms/step - loss: 0.1134 - accuracy: 0.9706 - val_loss: 0.1325 - val_accuracy: 0.9717\n",
      "Epoch 20/100\n",
      "985/985 [==============================] - 12s 13ms/step - loss: 0.1120 - accuracy: 0.9702 - val_loss: 0.1390 - val_accuracy: 0.9689\n",
      "Epoch 21/100\n",
      "985/985 [==============================] - 12s 12ms/step - loss: 0.1110 - accuracy: 0.9724 - val_loss: 0.1308 - val_accuracy: 0.9683\n",
      "Epoch 22/100\n",
      "985/985 [==============================] - 12s 13ms/step - loss: 0.1063 - accuracy: 0.9725 - val_loss: 0.1298 - val_accuracy: 0.9704\n"
     ]
    }
   ],
   "source": [
    "history=model.fit(X_train,y_train,epochs=100,validation_data=(X_valid,y_valid),callbacks=[early_stopping])"
   ]
  },
  {
   "cell_type": "code",
   "execution_count": 64,
   "metadata": {},
   "outputs": [
    {
     "name": "stdout",
     "output_type": "stream",
     "text": [
      "875/875 [==============================] - 3s 3ms/step\n"
     ]
    }
   ],
   "source": [
    "y_pred=model.predict(test)\n"
   ]
  },
  {
   "cell_type": "code",
   "execution_count": 65,
   "metadata": {},
   "outputs": [],
   "source": [
    "test['Label']=y_pred.argmax(axis=1)\n",
    "test['ImageId']=test.index + 1"
   ]
  },
  {
   "cell_type": "code",
   "execution_count": 66,
   "metadata": {},
   "outputs": [],
   "source": [
    "test[['ImageId','Label']].to_csv('submission.csv',index=False)"
   ]
  }
 ],
 "metadata": {
  "kernelspec": {
   "display_name": "Python 3",
   "language": "python",
   "name": "python3"
  },
  "language_info": {
   "codemirror_mode": {
    "name": "ipython",
    "version": 3
   },
   "file_extension": ".py",
   "mimetype": "text/x-python",
   "name": "python",
   "nbconvert_exporter": "python",
   "pygments_lexer": "ipython3",
   "version": "3.11.1"
  },
  "orig_nbformat": 4
 },
 "nbformat": 4,
 "nbformat_minor": 2
}
